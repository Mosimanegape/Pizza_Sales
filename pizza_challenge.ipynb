{
 "cells": [
  {
   "cell_type": "markdown",
   "id": "0ab1e9b7",
   "metadata": {},
   "source": [
    "# Maven's Pizza Challenge\n",
    "\n",
    "Are you looking for a real-world business case to test your analytics skills?\n",
    "\n",
    "Need a dashboard project to showcase on your portfolio?\n",
    "\n",
    "We have just what you need, including another chance to win a free all-access membership to Maven Analytics!\n",
    "\n",
    "We’ve just added a fresh new data set to the Data Playground containing a year's worth of sales from a fictitious pizza place.\n",
    "\n",
    "This data set is perfect for setting up a data model and leveraging your data analysis & visualization skills to bring the data underneath to life. So fire up your favorite BI tool (Excel, Power BI, Tableau, Python, etc.) and show us what you've got!\n",
    "\n",
    "To go along with this release, we’re launching the Maven Pizza Challenge and giving away a free all-access membership to the winner.\n",
    "\n",
    "We’ll share more about the challenge details below, but first let’s talk about the data…\n",
    "\n",
    "About the dataset\n",
    "This dataset contains 4 tables in CSV format\n",
    "The Orders table contains the date & time that all table orders were placed\n",
    "The Order Details table contains the different pizzas served with each order in the Orders table, and their quantities\n",
    "The Pizzas table contains the size and price for each distinct pizza in the Order Details table, as well as its broader pizza type\n",
    "The Pizza Types table contains details on the pizza types in the Pizzas table, including their name as it appears on the menu, the category it falls under, and its list of ingredients\n",
    "How to play the Maven Pizza Challenge\n",
    "For the Maven Pizza Challenge, you’ll be playing the role of a BI Consultant hired by Plato's Pizza, a Greek-inspired pizza place in New Jersey. You've been hired to help the restaurant use data to improve operations, and just received the following note:\n",
    "\n",
    "Welcome aboard, we're glad you're here to help!\n",
    "\n",
    "Things are going OK here at Plato's, but there's room for improvement. We've been collecting transactional data for the past year, but really haven't been able to put it to good use. Hoping you can analyze the data and put together a report to help us find opportunities to drive more sales and work more efficiently.\n",
    "\n",
    "Here are some questions that we'd like to be able to answer:\n",
    "\n",
    "\n",
    "<td>\n",
    "    <li>What days and times do we tend to be busiest?</li>\n",
    "    <li>How many pizzas are we making during peak periods?</li>\n",
    "    <li>What are our best and worst selling pizzas?</li>\n",
    "    <li>What's our average order value?</li>\n",
    "    <li>How well are we utilizing our seating capacity?</li>\n",
    "    <li>(we have 15 tables and 60 seats) That's all I can think of for now, but if you have any other ideas I'd love to hear them – you're the expert!</li>\n",
    "</td>\n",
    "\n",
    "\n",
    "Happy analyzing!"
   ]
  },
  {
   "cell_type": "markdown",
   "id": "74aa090d",
   "metadata": {},
   "source": [
    "<H3>Objectives</H3>\n",
    "<br>\n",
    "<td>\n",
    "    <li>What days and times are the busiet?</li>\n",
    "    <li>How many pizzas are made during peak periods?</li>\n",
    "    <li>What are the best and worst selling pizzas?</li>\n",
    "    <li>What is the average order value?</li>\n",
    "    <li>How well is the seating capacity utilized?</li>\n",
    "</td>"
   ]
  },
  {
   "cell_type": "code",
   "execution_count": 1,
   "id": "4fb45bb2",
   "metadata": {},
   "outputs": [],
   "source": [
    "# Import Libraries\n",
    "import pandas as pd\n",
    "import numpy as np"
   ]
  },
  {
   "cell_type": "code",
   "execution_count": 2,
   "id": "f0c90082",
   "metadata": {
    "scrolled": false
   },
   "outputs": [
    {
     "data": {
      "text/html": [
       "<div>\n",
       "<style scoped>\n",
       "    .dataframe tbody tr th:only-of-type {\n",
       "        vertical-align: middle;\n",
       "    }\n",
       "\n",
       "    .dataframe tbody tr th {\n",
       "        vertical-align: top;\n",
       "    }\n",
       "\n",
       "    .dataframe thead th {\n",
       "        text-align: right;\n",
       "    }\n",
       "</style>\n",
       "<table border=\"1\" class=\"dataframe\">\n",
       "  <thead>\n",
       "    <tr style=\"text-align: right;\">\n",
       "      <th></th>\n",
       "      <th>order_details_id</th>\n",
       "      <th>order_id</th>\n",
       "      <th>pizza_id</th>\n",
       "      <th>quantity</th>\n",
       "      <th>order_date</th>\n",
       "      <th>order_time</th>\n",
       "      <th>unit_price</th>\n",
       "      <th>total_price</th>\n",
       "      <th>pizza_size</th>\n",
       "      <th>pizza_category</th>\n",
       "      <th>pizza_ingredients</th>\n",
       "      <th>pizza_name</th>\n",
       "    </tr>\n",
       "  </thead>\n",
       "  <tbody>\n",
       "    <tr>\n",
       "      <th>0</th>\n",
       "      <td>1</td>\n",
       "      <td>1</td>\n",
       "      <td>hawaiian_m</td>\n",
       "      <td>1</td>\n",
       "      <td>2015-01-01</td>\n",
       "      <td>11:38:36</td>\n",
       "      <td>13.25</td>\n",
       "      <td>13.25</td>\n",
       "      <td>M</td>\n",
       "      <td>Classic</td>\n",
       "      <td>Sliced Ham, Pineapple, Mozzarella Cheese</td>\n",
       "      <td>The Hawaiian Pizza</td>\n",
       "    </tr>\n",
       "    <tr>\n",
       "      <th>1</th>\n",
       "      <td>2</td>\n",
       "      <td>2</td>\n",
       "      <td>classic_dlx_m</td>\n",
       "      <td>1</td>\n",
       "      <td>2015-01-01</td>\n",
       "      <td>11:57:40</td>\n",
       "      <td>16.00</td>\n",
       "      <td>16.00</td>\n",
       "      <td>M</td>\n",
       "      <td>Classic</td>\n",
       "      <td>Pepperoni, Mushrooms, Red Onions, Red Peppers,...</td>\n",
       "      <td>The Classic Deluxe Pizza</td>\n",
       "    </tr>\n",
       "    <tr>\n",
       "      <th>2</th>\n",
       "      <td>3</td>\n",
       "      <td>2</td>\n",
       "      <td>five_cheese_l</td>\n",
       "      <td>1</td>\n",
       "      <td>2015-01-01</td>\n",
       "      <td>11:57:40</td>\n",
       "      <td>18.50</td>\n",
       "      <td>18.50</td>\n",
       "      <td>L</td>\n",
       "      <td>Veggie</td>\n",
       "      <td>Mozzarella Cheese, Provolone Cheese, Smoked Go...</td>\n",
       "      <td>The Five Cheese Pizza</td>\n",
       "    </tr>\n",
       "    <tr>\n",
       "      <th>3</th>\n",
       "      <td>4</td>\n",
       "      <td>2</td>\n",
       "      <td>ital_supr_l</td>\n",
       "      <td>1</td>\n",
       "      <td>2015-01-01</td>\n",
       "      <td>11:57:40</td>\n",
       "      <td>20.75</td>\n",
       "      <td>20.75</td>\n",
       "      <td>L</td>\n",
       "      <td>Supreme</td>\n",
       "      <td>Calabrese Salami, Capocollo, Tomatoes, Red Oni...</td>\n",
       "      <td>The Italian Supreme Pizza</td>\n",
       "    </tr>\n",
       "    <tr>\n",
       "      <th>4</th>\n",
       "      <td>5</td>\n",
       "      <td>2</td>\n",
       "      <td>mexicana_m</td>\n",
       "      <td>1</td>\n",
       "      <td>2015-01-01</td>\n",
       "      <td>11:57:40</td>\n",
       "      <td>16.00</td>\n",
       "      <td>16.00</td>\n",
       "      <td>M</td>\n",
       "      <td>Veggie</td>\n",
       "      <td>Tomatoes, Red Peppers, Jalapeno Peppers, Red O...</td>\n",
       "      <td>The Mexicana Pizza</td>\n",
       "    </tr>\n",
       "  </tbody>\n",
       "</table>\n",
       "</div>"
      ],
      "text/plain": [
       "   order_details_id  order_id       pizza_id  quantity order_date order_time  \\\n",
       "0                 1         1     hawaiian_m         1 2015-01-01   11:38:36   \n",
       "1                 2         2  classic_dlx_m         1 2015-01-01   11:57:40   \n",
       "2                 3         2  five_cheese_l         1 2015-01-01   11:57:40   \n",
       "3                 4         2    ital_supr_l         1 2015-01-01   11:57:40   \n",
       "4                 5         2     mexicana_m         1 2015-01-01   11:57:40   \n",
       "\n",
       "   unit_price  total_price pizza_size pizza_category  \\\n",
       "0       13.25        13.25          M        Classic   \n",
       "1       16.00        16.00          M        Classic   \n",
       "2       18.50        18.50          L         Veggie   \n",
       "3       20.75        20.75          L        Supreme   \n",
       "4       16.00        16.00          M         Veggie   \n",
       "\n",
       "                                   pizza_ingredients  \\\n",
       "0           Sliced Ham, Pineapple, Mozzarella Cheese   \n",
       "1  Pepperoni, Mushrooms, Red Onions, Red Peppers,...   \n",
       "2  Mozzarella Cheese, Provolone Cheese, Smoked Go...   \n",
       "3  Calabrese Salami, Capocollo, Tomatoes, Red Oni...   \n",
       "4  Tomatoes, Red Peppers, Jalapeno Peppers, Red O...   \n",
       "\n",
       "                  pizza_name  \n",
       "0         The Hawaiian Pizza  \n",
       "1   The Classic Deluxe Pizza  \n",
       "2      The Five Cheese Pizza  \n",
       "3  The Italian Supreme Pizza  \n",
       "4         The Mexicana Pizza  "
      ]
     },
     "execution_count": 2,
     "metadata": {},
     "output_type": "execute_result"
    }
   ],
   "source": [
    "# import the dataset\n",
    "\n",
    "df = pd.read_excel('Data Model - Pizza Sales.xlsx') \n",
    "df.head()"
   ]
  },
  {
   "cell_type": "code",
   "execution_count": 3,
   "id": "c618a19b",
   "metadata": {},
   "outputs": [
    {
     "name": "stdout",
     "output_type": "stream",
     "text": [
      "This dataset has 48620 rows and 12 columns\n"
     ]
    }
   ],
   "source": [
    "# Shape of the dataset\n",
    "shape = df.shape\n",
    "print(\"This dataset has\", shape[0], \"rows and\", shape[1], \"columns\")"
   ]
  },
  {
   "cell_type": "markdown",
   "id": "38350f9e",
   "metadata": {},
   "source": [
    "## Data Wrangling"
   ]
  },
  {
   "cell_type": "markdown",
   "id": "ddd96dc9",
   "metadata": {},
   "source": [
    "### Finding missing values"
   ]
  },
  {
   "cell_type": "code",
   "execution_count": 4,
   "id": "f176cb1a",
   "metadata": {},
   "outputs": [
    {
     "name": "stdout",
     "output_type": "stream",
     "text": [
      "order_details_id\n",
      "False    48620\n",
      "Name: order_details_id, dtype: int64\n",
      "\n",
      "order_id\n",
      "False    48620\n",
      "Name: order_id, dtype: int64\n",
      "\n",
      "pizza_id\n",
      "False    48620\n",
      "Name: pizza_id, dtype: int64\n",
      "\n",
      "quantity\n",
      "False    48620\n",
      "Name: quantity, dtype: int64\n",
      "\n",
      "order_date\n",
      "False    48620\n",
      "Name: order_date, dtype: int64\n",
      "\n",
      "order_time\n",
      "False    48620\n",
      "Name: order_time, dtype: int64\n",
      "\n",
      "unit_price\n",
      "False    48620\n",
      "Name: unit_price, dtype: int64\n",
      "\n",
      "total_price\n",
      "False    48620\n",
      "Name: total_price, dtype: int64\n",
      "\n",
      "pizza_size\n",
      "False    48620\n",
      "Name: pizza_size, dtype: int64\n",
      "\n",
      "pizza_category\n",
      "False    48620\n",
      "Name: pizza_category, dtype: int64\n",
      "\n",
      "pizza_ingredients\n",
      "False    48620\n",
      "Name: pizza_ingredients, dtype: int64\n",
      "\n",
      "pizza_name\n",
      "False    48620\n",
      "Name: pizza_name, dtype: int64\n",
      "\n"
     ]
    }
   ],
   "source": [
    "missing_data = df.isnull()\n",
    "for column in missing_data.columns.values.tolist():\n",
    "    print(column)\n",
    "    print(missing_data[column].value_counts())\n",
    "    print(\"\")"
   ]
  },
  {
   "cell_type": "markdown",
   "id": "9e73c522",
   "metadata": {},
   "source": [
    "Fortunately there are no missing values in this dataset so can proceed to the next step."
   ]
  },
  {
   "cell_type": "code",
   "execution_count": 5,
   "id": "0510e360",
   "metadata": {
    "scrolled": true
   },
   "outputs": [
    {
     "data": {
      "text/plain": [
       "order_details_id              int64\n",
       "order_id                      int64\n",
       "pizza_id                     object\n",
       "quantity                      int64\n",
       "order_date           datetime64[ns]\n",
       "order_time                   object\n",
       "unit_price                  float64\n",
       "total_price                 float64\n",
       "pizza_size                   object\n",
       "pizza_category               object\n",
       "pizza_ingredients            object\n",
       "pizza_name                   object\n",
       "dtype: object"
      ]
     },
     "execution_count": 5,
     "metadata": {},
     "output_type": "execute_result"
    }
   ],
   "source": [
    "# Check the datatypes of the columns\n",
    "df.dtypes"
   ]
  },
  {
   "cell_type": "markdown",
   "id": "3259ae17",
   "metadata": {},
   "source": [
    "### Adding a DAY column to the dataframe\n",
    "\n",
    "Let's add a date column that only includes days of the week."
   ]
  },
  {
   "cell_type": "code",
   "execution_count": 7,
   "id": "dde914af",
   "metadata": {},
   "outputs": [],
   "source": [
    "from datetime import datetime "
   ]
  },
  {
   "cell_type": "code",
   "execution_count": 7,
   "id": "b4c90bda",
   "metadata": {},
   "outputs": [],
   "source": [
    "date_list = df['order_date'].dt.strftime(\"%A %d %B %Y\").str.split() \n",
    "\n",
    "date = []\n",
    "for item in date_list:\n",
    "    date.append(item[0])\n",
    "\n",
    "df['day'] = date"
   ]
  },
  {
   "cell_type": "code",
   "execution_count": 9,
   "id": "c048b3db",
   "metadata": {
    "scrolled": true
   },
   "outputs": [
    {
     "data": {
      "text/html": [
       "<div>\n",
       "<style scoped>\n",
       "    .dataframe tbody tr th:only-of-type {\n",
       "        vertical-align: middle;\n",
       "    }\n",
       "\n",
       "    .dataframe tbody tr th {\n",
       "        vertical-align: top;\n",
       "    }\n",
       "\n",
       "    .dataframe thead th {\n",
       "        text-align: right;\n",
       "    }\n",
       "</style>\n",
       "<table border=\"1\" class=\"dataframe\">\n",
       "  <thead>\n",
       "    <tr style=\"text-align: right;\">\n",
       "      <th></th>\n",
       "      <th>order_details_id</th>\n",
       "      <th>order_id</th>\n",
       "      <th>pizza_id</th>\n",
       "      <th>quantity</th>\n",
       "      <th>order_date</th>\n",
       "      <th>order_time</th>\n",
       "      <th>unit_price</th>\n",
       "      <th>total_price</th>\n",
       "      <th>pizza_size</th>\n",
       "      <th>pizza_category</th>\n",
       "      <th>pizza_ingredients</th>\n",
       "      <th>pizza_name</th>\n",
       "      <th>day</th>\n",
       "    </tr>\n",
       "  </thead>\n",
       "  <tbody>\n",
       "    <tr>\n",
       "      <th>0</th>\n",
       "      <td>1</td>\n",
       "      <td>1</td>\n",
       "      <td>hawaiian_m</td>\n",
       "      <td>1</td>\n",
       "      <td>2015-01-01</td>\n",
       "      <td>11:38:36</td>\n",
       "      <td>13.25</td>\n",
       "      <td>13.25</td>\n",
       "      <td>M</td>\n",
       "      <td>Classic</td>\n",
       "      <td>Sliced Ham, Pineapple, Mozzarella Cheese</td>\n",
       "      <td>The Hawaiian Pizza</td>\n",
       "      <td>Thursday</td>\n",
       "    </tr>\n",
       "    <tr>\n",
       "      <th>1</th>\n",
       "      <td>2</td>\n",
       "      <td>2</td>\n",
       "      <td>classic_dlx_m</td>\n",
       "      <td>1</td>\n",
       "      <td>2015-01-01</td>\n",
       "      <td>11:57:40</td>\n",
       "      <td>16.00</td>\n",
       "      <td>16.00</td>\n",
       "      <td>M</td>\n",
       "      <td>Classic</td>\n",
       "      <td>Pepperoni, Mushrooms, Red Onions, Red Peppers,...</td>\n",
       "      <td>The Classic Deluxe Pizza</td>\n",
       "      <td>Thursday</td>\n",
       "    </tr>\n",
       "    <tr>\n",
       "      <th>2</th>\n",
       "      <td>3</td>\n",
       "      <td>2</td>\n",
       "      <td>five_cheese_l</td>\n",
       "      <td>1</td>\n",
       "      <td>2015-01-01</td>\n",
       "      <td>11:57:40</td>\n",
       "      <td>18.50</td>\n",
       "      <td>18.50</td>\n",
       "      <td>L</td>\n",
       "      <td>Veggie</td>\n",
       "      <td>Mozzarella Cheese, Provolone Cheese, Smoked Go...</td>\n",
       "      <td>The Five Cheese Pizza</td>\n",
       "      <td>Thursday</td>\n",
       "    </tr>\n",
       "    <tr>\n",
       "      <th>3</th>\n",
       "      <td>4</td>\n",
       "      <td>2</td>\n",
       "      <td>ital_supr_l</td>\n",
       "      <td>1</td>\n",
       "      <td>2015-01-01</td>\n",
       "      <td>11:57:40</td>\n",
       "      <td>20.75</td>\n",
       "      <td>20.75</td>\n",
       "      <td>L</td>\n",
       "      <td>Supreme</td>\n",
       "      <td>Calabrese Salami, Capocollo, Tomatoes, Red Oni...</td>\n",
       "      <td>The Italian Supreme Pizza</td>\n",
       "      <td>Thursday</td>\n",
       "    </tr>\n",
       "    <tr>\n",
       "      <th>4</th>\n",
       "      <td>5</td>\n",
       "      <td>2</td>\n",
       "      <td>mexicana_m</td>\n",
       "      <td>1</td>\n",
       "      <td>2015-01-01</td>\n",
       "      <td>11:57:40</td>\n",
       "      <td>16.00</td>\n",
       "      <td>16.00</td>\n",
       "      <td>M</td>\n",
       "      <td>Veggie</td>\n",
       "      <td>Tomatoes, Red Peppers, Jalapeno Peppers, Red O...</td>\n",
       "      <td>The Mexicana Pizza</td>\n",
       "      <td>Thursday</td>\n",
       "    </tr>\n",
       "  </tbody>\n",
       "</table>\n",
       "</div>"
      ],
      "text/plain": [
       "   order_details_id  order_id       pizza_id  quantity order_date order_time  \\\n",
       "0                 1         1     hawaiian_m         1 2015-01-01   11:38:36   \n",
       "1                 2         2  classic_dlx_m         1 2015-01-01   11:57:40   \n",
       "2                 3         2  five_cheese_l         1 2015-01-01   11:57:40   \n",
       "3                 4         2    ital_supr_l         1 2015-01-01   11:57:40   \n",
       "4                 5         2     mexicana_m         1 2015-01-01   11:57:40   \n",
       "\n",
       "   unit_price  total_price pizza_size pizza_category  \\\n",
       "0       13.25        13.25          M        Classic   \n",
       "1       16.00        16.00          M        Classic   \n",
       "2       18.50        18.50          L         Veggie   \n",
       "3       20.75        20.75          L        Supreme   \n",
       "4       16.00        16.00          M         Veggie   \n",
       "\n",
       "                                   pizza_ingredients  \\\n",
       "0           Sliced Ham, Pineapple, Mozzarella Cheese   \n",
       "1  Pepperoni, Mushrooms, Red Onions, Red Peppers,...   \n",
       "2  Mozzarella Cheese, Provolone Cheese, Smoked Go...   \n",
       "3  Calabrese Salami, Capocollo, Tomatoes, Red Oni...   \n",
       "4  Tomatoes, Red Peppers, Jalapeno Peppers, Red O...   \n",
       "\n",
       "                  pizza_name       day  \n",
       "0         The Hawaiian Pizza  Thursday  \n",
       "1   The Classic Deluxe Pizza  Thursday  \n",
       "2      The Five Cheese Pizza  Thursday  \n",
       "3  The Italian Supreme Pizza  Thursday  \n",
       "4         The Mexicana Pizza  Thursday  "
      ]
     },
     "execution_count": 9,
     "metadata": {},
     "output_type": "execute_result"
    }
   ],
   "source": [
    "df.head()"
   ]
  },
  {
   "cell_type": "markdown",
   "id": "76a11e96",
   "metadata": {},
   "source": [
    "We now have a column that only has _**days of the week**_ which is going to be helpful later on when plot our visulalizations. "
   ]
  },
  {
   "cell_type": "markdown",
   "id": "41420e59",
   "metadata": {},
   "source": [
    "## Exploratory Data Analysis"
   ]
  },
  {
   "cell_type": "code",
   "execution_count": 228,
   "id": "bacbbf0c",
   "metadata": {},
   "outputs": [],
   "source": [
    "# import visualization libraries\n",
    "\n",
    "import seaborn as sns\n",
    "import matplotlib as mpl\n",
    "import matplotlib.pyplot as plt\n",
    "\n",
    "mpl.style.use('ggplot')"
   ]
  },
  {
   "cell_type": "markdown",
   "id": "c1aed8ad",
   "metadata": {},
   "source": [
    "### 1. What days and times are the busiet?"
   ]
  },
  {
   "cell_type": "code",
   "execution_count": 11,
   "id": "ed596156",
   "metadata": {
    "scrolled": true
   },
   "outputs": [
    {
     "data": {
      "text/plain": [
       "Text(0.5, 1.0, 'Number of Orders Per Weekday')"
      ]
     },
     "execution_count": 11,
     "metadata": {},
     "output_type": "execute_result"
    },
    {
     "data": {
      "image/png": "[encoded data removed]",
      "text/plain": [
       "<Figure size 576x360 with 1 Axes>"
      ]
     },
     "metadata": {
      "needs_background": "light"
     },
     "output_type": "display_data"
    }
   ],
   "source": [
    "colors = ['lightcoral', 'indianred', 'brown', 'firebrick', 'maroon', 'tomato', 'orangered']\n",
    "df.groupby('day').sum()['quantity'].plot(kind='bar', rot=0, figsize=(8, 5), color = colors)\n",
    "\n",
    "plt.xlabel('Day')\n",
    "plt.ylabel('Quantity')\n",
    "plt.title('Number of Orders Per Weekday', fontsize=18)"
   ]
  },
  {
   "cell_type": "markdown",
   "id": "352ac25f",
   "metadata": {},
   "source": [
    "As we can see in a period of a year Fridays were the busiest in terms orders quantity.\n",
    "\n",
    "Now to make our bar chart more appealing let's order the days of the week accordingly"
   ]
  },
  {
   "cell_type": "code",
   "execution_count": 12,
   "id": "62ca0ddb",
   "metadata": {},
   "outputs": [
    {
     "data": {
      "image/png": "[encoded data removed]",
      "text/plain": [
       "<Figure size 576x360 with 1 Axes>"
      ]
     },
     "metadata": {
      "needs_background": "light"
     },
     "output_type": "display_data"
    }
   ],
   "source": [
    "colors = ['lightcoral', 'indianred', 'brown', 'firebrick', 'maroon', 'tomato', 'orangered']\n",
    "# Create a reference sorting list\n",
    "sort_order = ['Monday', 'Tuesday', 'Wednesday', 'Thursday', 'Friday', 'Saturday', 'Sunday']\n",
    "\n",
    "#Create a dataframe\n",
    "day_df = df.groupby('day').sum()['quantity']\n",
    "\n",
    "# Sort the days of week in their order\n",
    "day_df.index = pd.CategoricalIndex(day_df.index, categories=sort_order, ordered=True)\n",
    "day_df = day_df.sort_index()\n",
    "\n",
    "# Plot the barchart\n",
    "day_df.plot(kind='bar', rot=0, figsize=(8, 5), color = colors)\n",
    "plt.title('Number of Orders Per weekday')\n",
    "plt.xlabel('Day')\n",
    "plt.ylabel('Number Of Orders')\n",
    "plt.show()"
   ]
  },
  {
   "cell_type": "markdown",
   "id": "dc5f79c8",
   "metadata": {},
   "source": [
    "Now as we can see our barchart looks more appropriate. Thursdays, Fridays and Saturdays seems to be busiet with Fridays having the highest number of orders.  "
   ]
  },
  {
   "cell_type": "code",
   "execution_count": 13,
   "id": "12622d3b",
   "metadata": {},
   "outputs": [
    {
     "data": {
      "text/html": [
       "<div>\n",
       "<style scoped>\n",
       "    .dataframe tbody tr th:only-of-type {\n",
       "        vertical-align: middle;\n",
       "    }\n",
       "\n",
       "    .dataframe tbody tr th {\n",
       "        vertical-align: top;\n",
       "    }\n",
       "\n",
       "    .dataframe thead th {\n",
       "        text-align: right;\n",
       "    }\n",
       "</style>\n",
       "<table border=\"1\" class=\"dataframe\">\n",
       "  <thead>\n",
       "    <tr style=\"text-align: right;\">\n",
       "      <th></th>\n",
       "      <th>quantity</th>\n",
       "      <th>Average</th>\n",
       "    </tr>\n",
       "    <tr>\n",
       "      <th>day</th>\n",
       "      <th></th>\n",
       "      <th></th>\n",
       "    </tr>\n",
       "  </thead>\n",
       "  <tbody>\n",
       "    <tr>\n",
       "      <th>Friday</th>\n",
       "      <td>8242</td>\n",
       "      <td>158.5</td>\n",
       "    </tr>\n",
       "  </tbody>\n",
       "</table>\n",
       "</div>"
      ],
      "text/plain": [
       "        quantity  Average\n",
       "day                      \n",
       "Friday      8242    158.5"
      ]
     },
     "execution_count": 13,
     "metadata": {},
     "output_type": "execute_result"
    }
   ],
   "source": [
    "day_df1 = day_df.to_frame()\n",
    "\n",
    "day_df1['Average'] = day_df1['quantity'] / 52 # 52 is the approximation of how many times each week day comes in a year\n",
    "day_df1[day_df1['Average'] == day_df1['Average'].max()]"
   ]
  },
  {
   "cell_type": "markdown",
   "id": "96c9c4e5",
   "metadata": {},
   "source": [
    "##### We can see that on average for every Friday orders turn to be higher than other days."
   ]
  },
  {
   "cell_type": "markdown",
   "id": "244267a6",
   "metadata": {},
   "source": [
    "Now let's see which times are the busiest."
   ]
  },
  {
   "cell_type": "code",
   "execution_count": 32,
   "id": "1802f701",
   "metadata": {
    "scrolled": true
   },
   "outputs": [
    {
     "data": {
      "text/plain": [
       "Text(0.5, 1.0, 'Frequency of Order Times')"
      ]
     },
     "execution_count": 32,
     "metadata": {},
     "output_type": "execute_result"
    },
    {
     "data": {
      "image/png": "[encoded data removed]",
      "text/plain": [
       "<Figure size 1152x288 with 1 Axes>"
      ]
     },
     "metadata": {
      "needs_background": "light"
     },
     "output_type": "display_data"
    }
   ],
   "source": [
    "df['order_time'].value_counts().to_frame().plot(figsize=(16, 4))\n",
    "plt.xlabel('Time', fontsize=12)\n",
    "plt.ylabel('Number Of orders (Quantity)', fontsize=12)\n",
    "plt.xticks(['09:00', '10:00', '11:00', '12:00', '13:00', '14:00', \n",
    "            '15:00', '16:00', '17:00', '18:00', '19:00', '20:00', '21:00', '22:00', '23:00']);\n",
    "plt.title('Frequency of Order Times', fontsize=14)"
   ]
  },
  {
   "cell_type": "markdown",
   "id": "e2328a39",
   "metadata": {},
   "source": [
    "We can see from the above line chart that the busiest times are between 1200hrs and 1400hrs. Our chart is not clear enough but we see can that the highest peaks appear around the mentioned times.\n",
    "\n",
    "Now let's try to work around our imperfect chart and make it more readable.<br>\n",
    "We will start by creating an empty dataframe with times ranging from 0900hrs to 2300hrs as our columns. Then create lists of hours and populate them with the corresponding times using a *for loop*. And finally add the data from the lists to the empty dataframe. "
   ]
  },
  {
   "cell_type": "code",
   "execution_count": 17,
   "id": "14ff3a37",
   "metadata": {},
   "outputs": [],
   "source": [
    "hours = ['09:00 - 09:59', '10:00 - 10:59', '11:00 - 11:59', '12:00 - 12:59', '13:00 - 13:59', \n",
    "        '14:00 - 14:59', '15:00 - 15:59', '16:00 - 16:59', '17:00 - 17:59', '18:00 - 18:59', \n",
    "        '19:00 - 19:59', '20:00 - 20:59', '21:00 - 21:59', '22:00 - 22:59', '23:00 - 23:59']"
   ]
  },
  {
   "cell_type": "code",
   "execution_count": 88,
   "id": "e345b9b5",
   "metadata": {},
   "outputs": [
    {
     "data": {
      "text/html": [
       "<div>\n",
       "<style scoped>\n",
       "    .dataframe tbody tr th:only-of-type {\n",
       "        vertical-align: middle;\n",
       "    }\n",
       "\n",
       "    .dataframe tbody tr th {\n",
       "        vertical-align: top;\n",
       "    }\n",
       "\n",
       "    .dataframe thead th {\n",
       "        text-align: right;\n",
       "    }\n",
       "</style>\n",
       "<table border=\"1\" class=\"dataframe\">\n",
       "  <thead>\n",
       "    <tr style=\"text-align: right;\">\n",
       "      <th></th>\n",
       "      <th>09:00 - 09:59</th>\n",
       "      <th>10:00 - 10:59</th>\n",
       "      <th>11:00 - 11:59</th>\n",
       "      <th>12:00 - 12:59</th>\n",
       "      <th>13:00 - 13:59</th>\n",
       "      <th>14:00 - 14:59</th>\n",
       "      <th>15:00 - 15:59</th>\n",
       "      <th>16:00 - 16:59</th>\n",
       "      <th>17:00 - 17:59</th>\n",
       "      <th>18:00 - 18:59</th>\n",
       "      <th>19:00 - 19:59</th>\n",
       "      <th>20:00 - 20:59</th>\n",
       "      <th>21:00 - 21:59</th>\n",
       "      <th>22:00 - 22:59</th>\n",
       "      <th>23:00 - 23:59</th>\n",
       "    </tr>\n",
       "  </thead>\n",
       "  <tbody>\n",
       "    <tr>\n",
       "      <th>frequency</th>\n",
       "      <td>NaN</td>\n",
       "      <td>NaN</td>\n",
       "      <td>NaN</td>\n",
       "      <td>NaN</td>\n",
       "      <td>NaN</td>\n",
       "      <td>NaN</td>\n",
       "      <td>NaN</td>\n",
       "      <td>NaN</td>\n",
       "      <td>NaN</td>\n",
       "      <td>NaN</td>\n",
       "      <td>NaN</td>\n",
       "      <td>NaN</td>\n",
       "      <td>NaN</td>\n",
       "      <td>NaN</td>\n",
       "      <td>NaN</td>\n",
       "    </tr>\n",
       "  </tbody>\n",
       "</table>\n",
       "</div>"
      ],
      "text/plain": [
       "          09:00 - 09:59 10:00 - 10:59 11:00 - 11:59 12:00 - 12:59  \\\n",
       "frequency           NaN           NaN           NaN           NaN   \n",
       "\n",
       "          13:00 - 13:59 14:00 - 14:59 15:00 - 15:59 16:00 - 16:59  \\\n",
       "frequency           NaN           NaN           NaN           NaN   \n",
       "\n",
       "          17:00 - 17:59 18:00 - 18:59 19:00 - 19:59 20:00 - 20:59  \\\n",
       "frequency           NaN           NaN           NaN           NaN   \n",
       "\n",
       "          21:00 - 21:59 22:00 - 22:59 23:00 - 23:59  \n",
       "frequency           NaN           NaN           NaN  "
      ]
     },
     "execution_count": 88,
     "metadata": {},
     "output_type": "execute_result"
    }
   ],
   "source": [
    "# Create an empty dataframe\n",
    "time_df = pd.DataFrame(columns=hours, index=['frequency'])\n",
    "time_df"
   ]
  },
  {
   "cell_type": "code",
   "execution_count": 89,
   "id": "b960ae8b",
   "metadata": {},
   "outputs": [],
   "source": [
    "# dt['order_time'].dt.strftime(\"%H %M %S\").str.split()\n",
    "# Create a list of hours\n",
    "nine_to_ten = []\n",
    "ten_to_eleven = []\n",
    "eleven_to_twelve = []\n",
    "twelve_to_one = []\n",
    "one_to_two = []\n",
    "two_to_three = []\n",
    "three_to_four = []\n",
    "four_to_five = []\n",
    "five_to_six = []\n",
    "six_to_seven = []\n",
    "seven_to_eight = []\n",
    "eight_to_nine_ = []\n",
    "_nine_to_ten = []\n",
    "_ten_to_eleven = []\n",
    "_eleven_to_twelve = []\n",
    "\n",
    "# Using for loop to append the lists with their corresponding times\n",
    "for time in df['order_time'].to_list():\n",
    "    if (time.strftime(\"%H:%M:%S\") >= '09:00:00') & (time.strftime(\"%H:%M:%S\") < '10:00:00'):\n",
    "        nine_to_ten.append(time) \n",
    "    # Ten to elven\n",
    "    elif (time.strftime(\"%H:%M:%S\") >= '10:00:00') & (time.strftime(\"%H:%M:%S\") < '11:00:00'):\n",
    "        ten_to_eleven.append(time)\n",
    "    # 11 to 12\n",
    "    elif (time.strftime(\"%H:%M:%S\") >= '11:00:00') & (time.strftime(\"%H:%M:%S\") < '12:00:00'):\n",
    "        eleven_to_twelve.append(time)\n",
    "    # 12 to 1\n",
    "    elif (time.strftime(\"%H:%M:%S\") >= '12:00:00') & (time.strftime(\"%H:%M:%S\") < '13:00:00'):\n",
    "        twelve_to_one.append(time)\n",
    "    # 1 to 2\n",
    "    elif (time.strftime(\"%H:%M:%S\") >= '13:00:00') & (time.strftime(\"%H:%M:%S\") < '14:00:00'): \n",
    "        one_to_two.append(time)\n",
    "    # 2 to 3\n",
    "    elif (time.strftime(\"%H:%M:%S\") >= '14:00:00') & (time.strftime(\"%H:%M:%S\") < '15:00:00'):\n",
    "        two_to_three.append(time)\n",
    "    # 3 to 4\n",
    "    elif (time.strftime(\"%H:%M:%S\") >= '15:00:00') & (time.strftime(\"%H:%M:%S\") < '16:00:00'):\n",
    "        three_to_four.append(time)\n",
    "    # 4 to 5\n",
    "    elif (time.strftime(\"%H:%M:%S\") >= '16:00:00') & (time.strftime(\"%H:%M:%S\") < '17:00:00'):\n",
    "        four_to_five.append(time)\n",
    "    # 5 to 6\n",
    "    elif (time.strftime(\"%H:%M:%S\") >= '17:00:00') & (time.strftime(\"%H:%M:%S\") < '18:00:00'):\n",
    "        five_to_six.append(time)\n",
    "    # 6 to 7\n",
    "    elif (time.strftime(\"%H:%M:%S\") >= '18:00:00') & (time.strftime(\"%H:%M:%S\") < '19:00:00'):\n",
    "        six_to_seven.append(time)\n",
    "    # 7 to 8\n",
    "    elif (time.strftime(\"%H:%M:%S\") >= '19:00:00') & (time.strftime(\"%H:%M:%S\") < '20:00:00'):\n",
    "        seven_to_eight.append(time)\n",
    "    # 8 to 9pm\n",
    "    elif (time.strftime(\"%H:%M:%S\") >= '20:00:00') & (time.strftime(\"%H:%M:%S\") < '21:00:00'):\n",
    "        eight_to_nine_.append(time)\n",
    "    # 9pm to 10pm\n",
    "    elif (time.strftime(\"%H:%M:%S\") >= '21:00:00') & (time.strftime(\"%H:%M:%S\") < '22:00:00'):\n",
    "        _nine_to_ten.append(time)\n",
    "    # 10pm to 11pm\n",
    "    elif (time.strftime(\"%H:%M:%S\") >= '22:00:00') & (time.strftime(\"%H:%M:%S\") < '23:00:00'):\n",
    "        _ten_to_eleven.append(time)\n",
    "    # 11pm to 00\n",
    "    elif (time.strftime(\"%H:%M:%S\") >= '23:00:00') & (time.strftime(\"%H:%M:%S\") < '00:00:00'):\n",
    "        _eleven_to_twelve.append(time)"
   ]
  },
  {
   "cell_type": "code",
   "execution_count": 90,
   "id": "2867466c",
   "metadata": {},
   "outputs": [
    {
     "data": {
      "text/html": [
       "<div>\n",
       "<style scoped>\n",
       "    .dataframe tbody tr th:only-of-type {\n",
       "        vertical-align: middle;\n",
       "    }\n",
       "\n",
       "    .dataframe tbody tr th {\n",
       "        vertical-align: top;\n",
       "    }\n",
       "\n",
       "    .dataframe thead th {\n",
       "        text-align: right;\n",
       "    }\n",
       "</style>\n",
       "<table border=\"1\" class=\"dataframe\">\n",
       "  <thead>\n",
       "    <tr style=\"text-align: right;\">\n",
       "      <th></th>\n",
       "      <th>09:00 - 09:59</th>\n",
       "      <th>10:00 - 10:59</th>\n",
       "      <th>11:00 - 11:59</th>\n",
       "      <th>12:00 - 12:59</th>\n",
       "      <th>13:00 - 13:59</th>\n",
       "      <th>14:00 - 14:59</th>\n",
       "      <th>15:00 - 15:59</th>\n",
       "      <th>16:00 - 16:59</th>\n",
       "      <th>17:00 - 17:59</th>\n",
       "      <th>18:00 - 18:59</th>\n",
       "      <th>19:00 - 19:59</th>\n",
       "      <th>20:00 - 20:59</th>\n",
       "      <th>21:00 - 21:59</th>\n",
       "      <th>22:00 - 22:59</th>\n",
       "      <th>23:00 - 23:59</th>\n",
       "    </tr>\n",
       "  </thead>\n",
       "  <tbody>\n",
       "    <tr>\n",
       "      <th>frequency</th>\n",
       "      <td>4</td>\n",
       "      <td>17</td>\n",
       "      <td>2672</td>\n",
       "      <td>6543</td>\n",
       "      <td>6203</td>\n",
       "      <td>3521</td>\n",
       "      <td>3170</td>\n",
       "      <td>4185</td>\n",
       "      <td>5143</td>\n",
       "      <td>5359</td>\n",
       "      <td>4350</td>\n",
       "      <td>3487</td>\n",
       "      <td>2528</td>\n",
       "      <td>1370</td>\n",
       "      <td>0</td>\n",
       "    </tr>\n",
       "  </tbody>\n",
       "</table>\n",
       "</div>"
      ],
      "text/plain": [
       "           09:00 - 09:59  10:00 - 10:59  11:00 - 11:59  12:00 - 12:59  \\\n",
       "frequency              4             17           2672           6543   \n",
       "\n",
       "           13:00 - 13:59  14:00 - 14:59  15:00 - 15:59  16:00 - 16:59  \\\n",
       "frequency           6203           3521           3170           4185   \n",
       "\n",
       "           17:00 - 17:59  18:00 - 18:59  19:00 - 19:59  20:00 - 20:59  \\\n",
       "frequency           5143           5359           4350           3487   \n",
       "\n",
       "           21:00 - 21:59  22:00 - 22:59  23:00 - 23:59  \n",
       "frequency           2528           1370              0  "
      ]
     },
     "execution_count": 90,
     "metadata": {},
     "output_type": "execute_result"
    }
   ],
   "source": [
    "# fill the time dataframe with frequency of the times\n",
    "time_df['09:00 - 09:59'] = len(nine_to_ten)\n",
    "time_df['10:00 - 10:59'] = len(ten_to_eleven)\n",
    "time_df['11:00 - 11:59'] = len(eleven_to_twelve) \n",
    "time_df['12:00 - 12:59'] = len(twelve_to_one)\n",
    "time_df['13:00 - 13:59'] = len(one_to_two)\n",
    "time_df['14:00 - 14:59'] = len(two_to_three)\n",
    "time_df['15:00 - 15:59'] = len(three_to_four)\n",
    "time_df['16:00 - 16:59'] = len(four_to_five)\n",
    "time_df['17:00 - 17:59'] = len(five_to_six)\n",
    "time_df['18:00 - 18:59'] = len(six_to_seven)\n",
    "time_df['19:00 - 19:59'] = len(seven_to_eight)\n",
    "time_df['20:00 - 20:59'] = len(eight_to_nine_)\n",
    "time_df['21:00 - 21:59'] = len(_nine_to_ten)\n",
    "time_df['22:00 - 22:59'] = len(_ten_to_eleven)\n",
    "time_df['23:00 - 23:59'] = len(_eleven_to_twelve)\n",
    "\n",
    "time_df"
   ]
  },
  {
   "cell_type": "code",
   "execution_count": 91,
   "id": "67937f6a",
   "metadata": {},
   "outputs": [
    {
     "data": {
      "image/png": "[encoded data removed]",
      "text/plain": [
       "<Figure size 864x360 with 1 Axes>"
      ]
     },
     "metadata": {
      "needs_background": "light"
     },
     "output_type": "display_data"
    }
   ],
   "source": [
    "# Transpose the datframe and then make a horizontal barchart from it \n",
    "time_df.transpose().plot(kind='barh', figsize=(12, 5), color='brown')\n",
    "plt.xlabel('Frequency')\n",
    "plt.ylabel('Time (Hours)')\n",
    "plt.title('Frequency of Order Times', fontsize=14)\n",
    "plt.xticks([500, 1000, 1500, 2000, 2500, 3000, 3500, 4000, 4500, 5000, 5500, 6000, 6500])\n",
    "plt.show()"
   ]
  },
  {
   "cell_type": "markdown",
   "id": "5442b9e2",
   "metadata": {},
   "source": [
    "Now it is clearly enough that from 1200hrs to 1400hrs is the busiest time. This makes sense because people usually go for lunch around those times. Another busy time is between 1700hrs and 1900hrs."
   ]
  },
  {
   "cell_type": "markdown",
   "id": "342d6df9",
   "metadata": {},
   "source": [
    "### 2. How many pizzas are made during peak periods?"
   ]
  },
  {
   "cell_type": "markdown",
   "id": "c361a03d",
   "metadata": {},
   "source": [
    "With reference to the horizontal bar chart above we can tell that the busiest hour of the day is 12 - 13pm. Now to get the number of pizzas made in this hour we can filter the data containing the times between 1200hrs and 1300hrs. And obtain the sum of the _'quantity'_ column."
   ]
  },
  {
   "cell_type": "code",
   "execution_count": 73,
   "id": "1b075db5",
   "metadata": {},
   "outputs": [],
   "source": [
    "data_f = df[(df['order_time'] >= time.fromisoformat('12:00:00')) & (df['order_time'] < time.fromisoformat('13:00:00'))]"
   ]
  },
  {
   "cell_type": "code",
   "execution_count": 85,
   "id": "13395322",
   "metadata": {
    "scrolled": true
   },
   "outputs": [
    {
     "data": {
      "text/plain": [
       "6776"
      ]
     },
     "execution_count": 85,
     "metadata": {},
     "output_type": "execute_result"
    }
   ],
   "source": [
    "data_f['quantity'].sum()"
   ]
  },
  {
   "cell_type": "code",
   "execution_count": 94,
   "id": "5871f6fd",
   "metadata": {},
   "outputs": [
    {
     "data": {
      "text/plain": [
       "2520"
      ]
     },
     "execution_count": 94,
     "metadata": {},
     "output_type": "execute_result"
    }
   ],
   "source": [
    "len(data_f['order_id'].value_counts())"
   ]
  },
  {
   "cell_type": "markdown",
   "id": "f57b2aea",
   "metadata": {},
   "source": [
    "According to the above results 6776 pizzas can be made and 2520 orders can placed during peak periods."
   ]
  },
  {
   "cell_type": "markdown",
   "id": "cb8b183c",
   "metadata": {},
   "source": [
    "### 3. What are the best and worst selling pizzas?"
   ]
  },
  {
   "cell_type": "code",
   "execution_count": 115,
   "id": "595cb4ae",
   "metadata": {},
   "outputs": [],
   "source": [
    "# Creating the pivot table\n",
    "pivot1 = pd.pivot_table(df, index='pizza_name', values=['order_id', 'quantity'], \n",
    "                        aggfunc = {'order_id':pd.Series.nunique, 'quantity':'sum'})\n"
   ]
  },
  {
   "cell_type": "code",
   "execution_count": 117,
   "id": "d1f5e051",
   "metadata": {},
   "outputs": [],
   "source": [
    "# Rename columns\n",
    "pivot1.rename(columns={'order_id': 'Total Orders','quantity': 'Total Quantity'}, inplace=True)"
   ]
  },
  {
   "cell_type": "code",
   "execution_count": 136,
   "id": "1347d33b",
   "metadata": {},
   "outputs": [
    {
     "data": {
      "text/html": [
       "<div>\n",
       "<style scoped>\n",
       "    .dataframe tbody tr th:only-of-type {\n",
       "        vertical-align: middle;\n",
       "    }\n",
       "\n",
       "    .dataframe tbody tr th {\n",
       "        vertical-align: top;\n",
       "    }\n",
       "\n",
       "    .dataframe thead th {\n",
       "        text-align: right;\n",
       "    }\n",
       "</style>\n",
       "<table border=\"1\" class=\"dataframe\">\n",
       "  <thead>\n",
       "    <tr style=\"text-align: right;\">\n",
       "      <th></th>\n",
       "      <th>Total Orders</th>\n",
       "      <th>Total Quantity</th>\n",
       "    </tr>\n",
       "    <tr>\n",
       "      <th>pizza_name</th>\n",
       "      <th></th>\n",
       "      <th></th>\n",
       "    </tr>\n",
       "  </thead>\n",
       "  <tbody>\n",
       "    <tr>\n",
       "      <th>The Classic Deluxe Pizza</th>\n",
       "      <td>2329</td>\n",
       "      <td>2453</td>\n",
       "    </tr>\n",
       "    <tr>\n",
       "      <th>The Hawaiian Pizza</th>\n",
       "      <td>2280</td>\n",
       "      <td>2422</td>\n",
       "    </tr>\n",
       "    <tr>\n",
       "      <th>The Pepperoni Pizza</th>\n",
       "      <td>2278</td>\n",
       "      <td>2418</td>\n",
       "    </tr>\n",
       "    <tr>\n",
       "      <th>The Barbecue Chicken Pizza</th>\n",
       "      <td>2273</td>\n",
       "      <td>2432</td>\n",
       "    </tr>\n",
       "    <tr>\n",
       "      <th>The Thai Chicken Pizza</th>\n",
       "      <td>2225</td>\n",
       "      <td>2371</td>\n",
       "    </tr>\n",
       "    <tr>\n",
       "      <th>The California Chicken Pizza</th>\n",
       "      <td>2197</td>\n",
       "      <td>2370</td>\n",
       "    </tr>\n",
       "    <tr>\n",
       "      <th>The Southwest Chicken Pizza</th>\n",
       "      <td>1825</td>\n",
       "      <td>1917</td>\n",
       "    </tr>\n",
       "    <tr>\n",
       "      <th>The Spicy Italian Pizza</th>\n",
       "      <td>1822</td>\n",
       "      <td>1924</td>\n",
       "    </tr>\n",
       "    <tr>\n",
       "      <th>The Sicilian Pizza</th>\n",
       "      <td>1820</td>\n",
       "      <td>1938</td>\n",
       "    </tr>\n",
       "    <tr>\n",
       "      <th>The Big Meat Pizza</th>\n",
       "      <td>1811</td>\n",
       "      <td>1914</td>\n",
       "    </tr>\n",
       "    <tr>\n",
       "      <th>The Four Cheese Pizza</th>\n",
       "      <td>1809</td>\n",
       "      <td>1902</td>\n",
       "    </tr>\n",
       "    <tr>\n",
       "      <th>The Italian Supreme Pizza</th>\n",
       "      <td>1791</td>\n",
       "      <td>1884</td>\n",
       "    </tr>\n",
       "    <tr>\n",
       "      <th>The Vegetables + Vegetables Pizza</th>\n",
       "      <td>1463</td>\n",
       "      <td>1526</td>\n",
       "    </tr>\n",
       "    <tr>\n",
       "      <th>The Mexicana Pizza</th>\n",
       "      <td>1426</td>\n",
       "      <td>1484</td>\n",
       "    </tr>\n",
       "    <tr>\n",
       "      <th>The Napolitana Pizza</th>\n",
       "      <td>1421</td>\n",
       "      <td>1464</td>\n",
       "    </tr>\n",
       "    <tr>\n",
       "      <th>The Spinach and Feta Pizza</th>\n",
       "      <td>1402</td>\n",
       "      <td>1446</td>\n",
       "    </tr>\n",
       "    <tr>\n",
       "      <th>The Prosciutto and Arugula Pizza</th>\n",
       "      <td>1398</td>\n",
       "      <td>1457</td>\n",
       "    </tr>\n",
       "    <tr>\n",
       "      <th>The Pepper Salami Pizza</th>\n",
       "      <td>1383</td>\n",
       "      <td>1446</td>\n",
       "    </tr>\n",
       "    <tr>\n",
       "      <th>The Italian Capocollo Pizza</th>\n",
       "      <td>1380</td>\n",
       "      <td>1438</td>\n",
       "    </tr>\n",
       "    <tr>\n",
       "      <th>The Greek Pizza</th>\n",
       "      <td>1361</td>\n",
       "      <td>1420</td>\n",
       "    </tr>\n",
       "    <tr>\n",
       "      <th>The Five Cheese Pizza</th>\n",
       "      <td>1359</td>\n",
       "      <td>1409</td>\n",
       "    </tr>\n",
       "    <tr>\n",
       "      <th>The Pepperoni, Mushroom, and Peppers Pizza</th>\n",
       "      <td>1316</td>\n",
       "      <td>1359</td>\n",
       "    </tr>\n",
       "    <tr>\n",
       "      <th>The Green Garden Pizza</th>\n",
       "      <td>976</td>\n",
       "      <td>997</td>\n",
       "    </tr>\n",
       "    <tr>\n",
       "      <th>The Chicken Alfredo Pizza</th>\n",
       "      <td>967</td>\n",
       "      <td>987</td>\n",
       "    </tr>\n",
       "    <tr>\n",
       "      <th>The Italian Vegetables Pizza</th>\n",
       "      <td>952</td>\n",
       "      <td>981</td>\n",
       "    </tr>\n",
       "    <tr>\n",
       "      <th>The Spinach Pesto Pizza</th>\n",
       "      <td>945</td>\n",
       "      <td>970</td>\n",
       "    </tr>\n",
       "    <tr>\n",
       "      <th>The Soppressata Pizza</th>\n",
       "      <td>941</td>\n",
       "      <td>961</td>\n",
       "    </tr>\n",
       "    <tr>\n",
       "      <th>The Chicken Pesto Pizza</th>\n",
       "      <td>938</td>\n",
       "      <td>973</td>\n",
       "    </tr>\n",
       "    <tr>\n",
       "      <th>The Spinach Supreme Pizza</th>\n",
       "      <td>918</td>\n",
       "      <td>950</td>\n",
       "    </tr>\n",
       "    <tr>\n",
       "      <th>The Calabrese Pizza</th>\n",
       "      <td>918</td>\n",
       "      <td>937</td>\n",
       "    </tr>\n",
       "    <tr>\n",
       "      <th>The Mediterranean Pizza</th>\n",
       "      <td>912</td>\n",
       "      <td>934</td>\n",
       "    </tr>\n",
       "    <tr>\n",
       "      <th>The Brie Carre Pizza</th>\n",
       "      <td>480</td>\n",
       "      <td>490</td>\n",
       "    </tr>\n",
       "  </tbody>\n",
       "</table>\n",
       "</div>"
      ],
      "text/plain": [
       "                                            Total Orders  Total Quantity\n",
       "pizza_name                                                              \n",
       "The Classic Deluxe Pizza                            2329            2453\n",
       "The Hawaiian Pizza                                  2280            2422\n",
       "The Pepperoni Pizza                                 2278            2418\n",
       "The Barbecue Chicken Pizza                          2273            2432\n",
       "The Thai Chicken Pizza                              2225            2371\n",
       "The California Chicken Pizza                        2197            2370\n",
       "The Southwest Chicken Pizza                         1825            1917\n",
       "The Spicy Italian Pizza                             1822            1924\n",
       "The Sicilian Pizza                                  1820            1938\n",
       "The Big Meat Pizza                                  1811            1914\n",
       "The Four Cheese Pizza                               1809            1902\n",
       "The Italian Supreme Pizza                           1791            1884\n",
       "The Vegetables + Vegetables Pizza                   1463            1526\n",
       "The Mexicana Pizza                                  1426            1484\n",
       "The Napolitana Pizza                                1421            1464\n",
       "The Spinach and Feta Pizza                          1402            1446\n",
       "The Prosciutto and Arugula Pizza                    1398            1457\n",
       "The Pepper Salami Pizza                             1383            1446\n",
       "The Italian Capocollo Pizza                         1380            1438\n",
       "The Greek Pizza                                     1361            1420\n",
       "The Five Cheese Pizza                               1359            1409\n",
       "The Pepperoni, Mushroom, and Peppers Pizza          1316            1359\n",
       "The Green Garden Pizza                               976             997\n",
       "The Chicken Alfredo Pizza                            967             987\n",
       "The Italian Vegetables Pizza                         952             981\n",
       "The Spinach Pesto Pizza                              945             970\n",
       "The Soppressata Pizza                                941             961\n",
       "The Chicken Pesto Pizza                              938             973\n",
       "The Spinach Supreme Pizza                            918             950\n",
       "The Calabrese Pizza                                  918             937\n",
       "The Mediterranean Pizza                              912             934\n",
       "The Brie Carre Pizza                                 480             490"
      ]
     },
     "execution_count": 136,
     "metadata": {},
     "output_type": "execute_result"
    }
   ],
   "source": [
    "# Sort the values in descending order\n",
    "pivot1.sort_values(by=['Total Orders', 'Total Quantity'], ascending=False)"
   ]
  },
  {
   "cell_type": "markdown",
   "id": "b3888c93",
   "metadata": {},
   "source": [
    "As we can see from the above pivot table the best pizza is **The Classic Deluxe Pizza** with 2329 orders and 2453 pizzas were made from those orders.<br><br>\n",
    "The worst selling pizza is **The Brie Carre Pizza** which had 480 orders and 490 pizzas were made. "
   ]
  },
  {
   "cell_type": "code",
   "execution_count": 259,
   "id": "426b7070",
   "metadata": {},
   "outputs": [
    {
     "data": {
      "image/png": "[encoded data removed]",
      "text/plain": [
       "<Figure size 720x432 with 1 Axes>"
      ]
     },
     "metadata": {},
     "output_type": "display_data"
    }
   ],
   "source": [
    "classic_del_pizza = df[df['pizza_name'] == 'The Classic Deluxe Pizza']\n",
    "classic_del_pizza = classic_del_pizza['pizza_size'].value_counts().to_frame()\n",
    "#labels = ['Medium', 'Small', 'Large']\n",
    "explode = [0,0.04, 0.1]\n",
    "classic_del_pizza.plot(kind='pie', subplots=True, \n",
    "                        figsize = (10, 6), explode=explode, shadow = True, autopct=\"%1.1f%%\")\n",
    "plt.axis('equal')\n",
    "plt.show()"
   ]
  },
  {
   "cell_type": "markdown",
   "id": "c1113989",
   "metadata": {},
   "source": [
    "Since we just discovered that _The Classic Delux Pizza_ is the best selling pizza we can also note that customers tend to order the M (Medium) size than other sizes which takes the ratio of 48%."
   ]
  },
  {
   "cell_type": "markdown",
   "id": "0d1049da",
   "metadata": {},
   "source": [
    "### 4. What's our average order value?"
   ]
  },
  {
   "cell_type": "markdown",
   "id": "25d17fd0",
   "metadata": {},
   "source": [
    "__Average Order Value (AOV) = Revenue / Number Of Orders__"
   ]
  },
  {
   "cell_type": "code",
   "execution_count": 135,
   "id": "55933440",
   "metadata": {},
   "outputs": [
    {
     "name": "stdout",
     "output_type": "stream",
     "text": [
      "The average order value is 38.30726229508197\n"
     ]
    }
   ],
   "source": [
    "# Calculating the average order value\n",
    "AOV = df['total_price'].sum() / len(df['order_id'].value_counts())\n",
    "AOV\n",
    "print(\"The average order value is\", AOV)"
   ]
  },
  {
   "cell_type": "markdown",
   "id": "23894467",
   "metadata": {},
   "source": [
    "### 5. How well is the seating capacity utilized?"
   ]
  },
  {
   "cell_type": "markdown",
   "id": "d8229a24",
   "metadata": {},
   "source": [
    "It was said that there are 15 tables and 60 seats so suppose that every table has 4 seats and 1 person consumes one pizza. The average number of pizzas ordered per order is 2 (6776 / 2520) which means only 2 seats are occupied in a 4 seat table. Therefore 30 out of 60 seats are occupied which is 50% occupancy of seating capacity. "
   ]
  },
  {
   "cell_type": "markdown",
   "id": "2ad93ca8",
   "metadata": {},
   "source": [
    "### Which pizza size is ordered the most?"
   ]
  },
  {
   "cell_type": "code",
   "execution_count": 148,
   "id": "3cd01432",
   "metadata": {},
   "outputs": [],
   "source": [
    "pizza_size = df['pizza_size'].value_counts().to_frame()"
   ]
  },
  {
   "cell_type": "code",
   "execution_count": 149,
   "id": "2088c725",
   "metadata": {},
   "outputs": [
    {
     "data": {
      "text/html": [
       "<div>\n",
       "<style scoped>\n",
       "    .dataframe tbody tr th:only-of-type {\n",
       "        vertical-align: middle;\n",
       "    }\n",
       "\n",
       "    .dataframe tbody tr th {\n",
       "        vertical-align: top;\n",
       "    }\n",
       "\n",
       "    .dataframe thead th {\n",
       "        text-align: right;\n",
       "    }\n",
       "</style>\n",
       "<table border=\"1\" class=\"dataframe\">\n",
       "  <thead>\n",
       "    <tr style=\"text-align: right;\">\n",
       "      <th></th>\n",
       "      <th>pizza_size</th>\n",
       "    </tr>\n",
       "  </thead>\n",
       "  <tbody>\n",
       "    <tr>\n",
       "      <th>L</th>\n",
       "      <td>18526</td>\n",
       "    </tr>\n",
       "    <tr>\n",
       "      <th>M</th>\n",
       "      <td>15385</td>\n",
       "    </tr>\n",
       "    <tr>\n",
       "      <th>S</th>\n",
       "      <td>14137</td>\n",
       "    </tr>\n",
       "    <tr>\n",
       "      <th>XL</th>\n",
       "      <td>544</td>\n",
       "    </tr>\n",
       "    <tr>\n",
       "      <th>XXL</th>\n",
       "      <td>28</td>\n",
       "    </tr>\n",
       "  </tbody>\n",
       "</table>\n",
       "</div>"
      ],
      "text/plain": [
       "     pizza_size\n",
       "L         18526\n",
       "M         15385\n",
       "S         14137\n",
       "XL          544\n",
       "XXL          28"
      ]
     },
     "execution_count": 149,
     "metadata": {},
     "output_type": "execute_result"
    }
   ],
   "source": [
    "pizza_size"
   ]
  },
  {
   "cell_type": "code",
   "execution_count": 229,
   "id": "cc476089",
   "metadata": {},
   "outputs": [
    {
     "data": {
      "image/png": "[encoded data removed]",
      "text/plain": [
       "<Figure size 432x288 with 1 Axes>"
      ]
     },
     "metadata": {},
     "output_type": "display_data"
    }
   ],
   "source": [
    "p_size = pizza_size.index.to_list()\n",
    "p_quantity = pizza_size['pizza_size'].to_list()\n",
    "plt.barh(p_size, p_quantity, color='steelblue')\n",
    "for index, value in enumerate(p_quantity):\n",
    "    label = format(int(value),',')\n",
    "    plt.annotate(label, xy=(value - 2090, index - 0.1), color='white')\n",
    "plt.show()"
   ]
  },
  {
   "cell_type": "markdown",
   "id": "cc263ab2",
   "metadata": {},
   "source": [
    "## Author\n",
    "\n",
    "LinkedIn: <a href=\"https://www.linkedin.com/in/mosimanegape-mholo-4506a9220/\" target=\"blank\">Mosimanegape Mholo</a>\n",
    "<br>\n",
    "Github  : <a href=\"https://github.com/Mosimanegape\">Mosimanegape Mholo</a>\n",
    "<br>\n"
   ]
  }
 ],
 "metadata": {
  "kernelspec": {
   "display_name": "Python 3 (ipykernel)",
   "language": "python",
   "name": "python3"
  },
  "language_info": {
   "codemirror_mode": {
    "name": "ipython",
    "version": 3
   },
   "file_extension": ".py",
   "mimetype": "text/x-python",
   "name": "python",
   "nbconvert_exporter": "python",
   "pygments_lexer": "ipython3",
   "version": "3.9.12"
  }
 },
 "nbformat": 4,
 "nbformat_minor": 5
}
